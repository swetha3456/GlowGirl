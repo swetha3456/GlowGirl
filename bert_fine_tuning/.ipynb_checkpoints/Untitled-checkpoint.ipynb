{
 "cells": [
  {
   "cell_type": "code",
   "execution_count": 1,
   "id": "bcfe04aa-b3c0-4ea8-b051-c277f70cf3fe",
   "metadata": {},
   "outputs": [
    {
     "name": "stdout",
     "output_type": "stream",
     "text": [
      "Requirement already satisfied: transformers in /home/dyuthi/anaconda3/lib/python3.9/site-packages (4.40.0.dev0)\n",
      "Requirement already satisfied: filelock in /home/dyuthi/anaconda3/lib/python3.9/site-packages (from transformers) (3.6.0)\n",
      "Requirement already satisfied: requests in /home/dyuthi/anaconda3/lib/python3.9/site-packages (from transformers) (2.31.0)\n",
      "Requirement already satisfied: packaging>=20.0 in /home/dyuthi/anaconda3/lib/python3.9/site-packages (from transformers) (21.3)\n",
      "Requirement already satisfied: safetensors>=0.4.1 in /home/dyuthi/anaconda3/lib/python3.9/site-packages (from transformers) (0.4.2)\n",
      "Requirement already satisfied: tqdm>=4.27 in /home/dyuthi/anaconda3/lib/python3.9/site-packages (from transformers) (4.64.1)\n",
      "Requirement already satisfied: huggingface-hub<1.0,>=0.19.3 in /home/dyuthi/anaconda3/lib/python3.9/site-packages (from transformers) (0.22.2)\n",
      "Requirement already satisfied: numpy>=1.17 in /home/dyuthi/anaconda3/lib/python3.9/site-packages (from transformers) (1.24.4)\n",
      "Requirement already satisfied: tokenizers<0.19,>=0.14 in /home/dyuthi/anaconda3/lib/python3.9/site-packages (from transformers) (0.15.2)\n",
      "Requirement already satisfied: pyyaml>=5.1 in /home/dyuthi/anaconda3/lib/python3.9/site-packages (from transformers) (6.0)\n",
      "Requirement already satisfied: regex!=2019.12.17 in /home/dyuthi/anaconda3/lib/python3.9/site-packages (from transformers) (2022.7.9)\n",
      "Requirement already satisfied: typing-extensions>=3.7.4.3 in /home/dyuthi/anaconda3/lib/python3.9/site-packages (from huggingface-hub<1.0,>=0.19.3->transformers) (4.7.1)\n",
      "Requirement already satisfied: fsspec>=2023.5.0 in /home/dyuthi/anaconda3/lib/python3.9/site-packages (from huggingface-hub<1.0,>=0.19.3->transformers) (2024.2.0)\n",
      "Requirement already satisfied: pyparsing!=3.0.5,>=2.0.2 in /home/dyuthi/anaconda3/lib/python3.9/site-packages (from packaging>=20.0->transformers) (3.0.9)\n",
      "Requirement already satisfied: charset-normalizer<4,>=2 in /home/dyuthi/anaconda3/lib/python3.9/site-packages (from requests->transformers) (2.0.4)\n",
      "Requirement already satisfied: urllib3<3,>=1.21.1 in /home/dyuthi/anaconda3/lib/python3.9/site-packages (from requests->transformers) (1.26.11)\n",
      "Requirement already satisfied: idna<4,>=2.5 in /home/dyuthi/anaconda3/lib/python3.9/site-packages (from requests->transformers) (3.3)\n",
      "Requirement already satisfied: certifi>=2017.4.17 in /home/dyuthi/anaconda3/lib/python3.9/site-packages (from requests->transformers) (2022.9.14)\n"
     ]
    }
   ],
   "source": [
    "!pip install transformers\n"
   ]
  },
  {
   "cell_type": "code",
   "execution_count": 6,
   "id": "a941dd59-8c49-4793-a49e-60e83084c692",
   "metadata": {},
   "outputs": [
    {
     "data": {
      "application/vnd.jupyter.widget-view+json": {
       "model_id": "1e8ea7127e0340f3ab99a9e79616d256",
       "version_major": 2,
       "version_minor": 0
      },
      "text/plain": [
       "tokenizer_config.json:   0%|          | 0.00/152 [00:00<?, ?B/s]"
      ]
     },
     "metadata": {},
     "output_type": "display_data"
    },
    {
     "data": {
      "application/vnd.jupyter.widget-view+json": {
       "model_id": "1dd183edf37a45cb814e94680976d0f0",
       "version_major": 2,
       "version_minor": 0
      },
      "text/plain": [
       "vocab.txt:   0%|          | 0.00/213k [00:00<?, ?B/s]"
      ]
     },
     "metadata": {},
     "output_type": "display_data"
    },
    {
     "data": {
      "application/vnd.jupyter.widget-view+json": {
       "model_id": "2cedac17b7cc464f8fdbcc565f264993",
       "version_major": 2,
       "version_minor": 0
      },
      "text/plain": [
       "special_tokens_map.json:   0%|          | 0.00/112 [00:00<?, ?B/s]"
      ]
     },
     "metadata": {},
     "output_type": "display_data"
    },
    {
     "data": {
      "application/vnd.jupyter.widget-view+json": {
       "model_id": "3dcaa1176b72470cae0660d5553524ca",
       "version_major": 2,
       "version_minor": 0
      },
      "text/plain": [
       "config.json:   0%|          | 0.00/508 [00:00<?, ?B/s]"
      ]
     },
     "metadata": {},
     "output_type": "display_data"
    },
    {
     "data": {
      "application/vnd.jupyter.widget-view+json": {
       "model_id": "8137df2943eb4d00a4bd414802fc9c48",
       "version_major": 2,
       "version_minor": 0
      },
      "text/plain": [
       "model.safetensors:   0%|          | 0.00/433M [00:00<?, ?B/s]"
      ]
     },
     "metadata": {},
     "output_type": "display_data"
    },
    {
     "name": "stderr",
     "output_type": "stream",
     "text": [
      "Some weights of the model checkpoint at deepset/bert-base-cased-squad2 were not used when initializing BertForQuestionAnswering: ['bert.pooler.dense.bias', 'bert.pooler.dense.weight']\n",
      "- This IS expected if you are initializing BertForQuestionAnswering from the checkpoint of a model trained on another task or with another architecture (e.g. initializing a BertForSequenceClassification model from a BertForPreTraining model).\n",
      "- This IS NOT expected if you are initializing BertForQuestionAnswering from the checkpoint of a model that you expect to be exactly identical (initializing a BertForSequenceClassification model from a BertForSequenceClassification model).\n"
     ]
    }
   ],
   "source": [
    "from transformers import BertTokenizer, BertForQuestionAnswering\n",
    "import torch\n",
    "\n",
    "# Load the BERT model and tokenizer\n",
    "tokenizer = BertTokenizer.from_pretrained('deepset/bert-base-cased-squad2')\n",
    "model = BertForQuestionAnswering.from_pretrained('deepset/bert-base-cased-squad2')\n",
    "\n"
   ]
  },
  {
   "cell_type": "code",
   "execution_count": 8,
   "id": "2f493373-36cd-4de7-9e3a-bceaf09f1536",
   "metadata": {},
   "outputs": [
    {
     "name": "stdout",
     "output_type": "stream",
     "text": [
      "the once respected businessman\n"
     ]
    }
   ],
   "source": [
    "# Define the input text and question\n",
    "text = \"In a shocking turn of events, it was revealed that the once respected businessman had been embezzling funds from the company for years. Despite his deceit, many of his employees expressed their loyalty and support for him.\"\n",
    "question = \"Who was revealed to have been embezzling funds from the company?\"\n",
    "\n",
    "# Encode the input text and question, and get the scores for each word in the text\n",
    "input = tokenizer(question, text,  return_tensors=\"pt\")\n",
    "\n",
    "output = model(**input)\n",
    "\n",
    "# Find the words in the text that corresponds to the highest start and end scores\n",
    "# with a torch.no_grad():\n",
    "#     outputs = model(**inputs)\n",
    "start_index = output.start_logits.argmax()\n",
    "end_index = output.end_logits.argmax() + 1\n",
    "\n",
    "# Extract the span of words as the answer\n",
    "answer = tokenizer.decode(input.input_ids[0, start_index:end_index])\n",
    "print(answer)\n"
   ]
  },
  {
   "cell_type": "code",
   "execution_count": 10,
   "id": "afab1dc9-e18e-4f8d-95f1-dba6a9d2d9de",
   "metadata": {},
   "outputs": [
    {
     "data": {
      "application/vnd.jupyter.widget-view+json": {
       "model_id": "780f1088a01c4bc0b8da0a0f33502d20",
       "version_major": 2,
       "version_minor": 0
      },
      "text/plain": [
       "tokenizer_config.json:   0%|          | 0.00/49.0 [00:00<?, ?B/s]"
      ]
     },
     "metadata": {},
     "output_type": "display_data"
    },
    {
     "data": {
      "application/vnd.jupyter.widget-view+json": {
       "model_id": "c7b2febc73be4eeb820f9b50d11ab445",
       "version_major": 2,
       "version_minor": 0
      },
      "text/plain": [
       "vocab.txt:   0%|          | 0.00/213k [00:00<?, ?B/s]"
      ]
     },
     "metadata": {},
     "output_type": "display_data"
    },
    {
     "data": {
      "application/vnd.jupyter.widget-view+json": {
       "model_id": "504b42df98a74460ae7ca7c5b178ba35",
       "version_major": 2,
       "version_minor": 0
      },
      "text/plain": [
       "tokenizer.json:   0%|          | 0.00/436k [00:00<?, ?B/s]"
      ]
     },
     "metadata": {},
     "output_type": "display_data"
    },
    {
     "data": {
      "application/vnd.jupyter.widget-view+json": {
       "model_id": "96fee54bfeae4c3c93ef5922ea7a9e1f",
       "version_major": 2,
       "version_minor": 0
      },
      "text/plain": [
       "config.json:   0%|          | 0.00/570 [00:00<?, ?B/s]"
      ]
     },
     "metadata": {},
     "output_type": "display_data"
    }
   ],
   "source": [
    "data = [(\"What type of exercise should I do today?\", \"It depends on your fitness goals and current phase of your menstrual cycle. Could you please provide more information?\"),\n",
    "                 (\"I want to improve my strength. What exercises do you recommend?\", \"Strength training exercises like squats, deadlifts, and bench presses can help you build muscle. Do you have any equipment available or prefer bodyweight exercises?\"),\n",
    "                 (\"I feel very tired during my period. Should I still exercise?\", \"It's important to listen to your body during your period. Light exercises like walking or gentle yoga can help alleviate discomfort. However, if you're feeling particularly fatigued, it's okay to take a break.\"),\n",
    "                 (\"How can I improve my flexibility?\", \"Incorporating stretching exercises like yoga or Pilates into your routine can help improve flexibility. Would you like some specific stretches to try?\"),\n",
    "                 (\"I'm pregnant. What exercises are safe for me to do?\", \"Congratulations! Low-impact exercises like swimming, walking, and prenatal yoga are generally safe during pregnancy. It's best to consult with your healthcare provider before starting any new exercise routine.\"),\n",
    "                 (\"I have a knee injury. What exercises can I do to strengthen my knee?\", \"Exercises that focus on strengthening the muscles around the knee, such as leg lifts and hamstring curls, can help improve knee stability. It's important to avoid exercises that cause pain or discomfort. Have you consulted with a physical therapist for personalized recommendations?\"),\n",
    "                 (\"I'm trying to lose weight. What types of exercises are best for burning calories?\", \"Cardiovascular exercises like running, cycling, and HIIT workouts are effective for burning calories. Additionally, incorporating strength training exercises can help increase muscle mass and boost metabolism.\"),\n",
    "                 (\"I have limited time for workouts. What are some quick exercises I can do?\", \"High-intensity interval training (HIIT) workouts are great for maximizing calorie burn in a short amount of time. You can also try circuit training, which involves performing a series of exercises back-to-back with minimal rest.\"),\n",
    "                 (\"I'm feeling unmotivated to exercise. What can I do to stay motivated?\", \"Setting specific, achievable goals, finding a workout buddy for accountability, and varying your routine with different types of exercises can help keep you motivated. Remember to focus on how exercise makes you feel, rather than just the end results.\"),\n",
    "                 (\"What are some exercises I can do to improve my posture?\", \"Exercises like rows, shoulder blade squeezes, and core strengthening exercises can help improve posture. Additionally, practicing good posture throughout the day is important.\"),\n",
    "                 (\"I'm experiencing lower back pain. Are there any exercises that can help?\", \"Gentle stretching exercises like cat-cow stretch, pelvic tilts, and knee-to-chest stretches can help alleviate lower back pain. Avoid exercises that put strain on the lower back, and consider consulting with a physical therapist for personalized recommendations.\"),\n",
    "                 (\"I want to tone my arms. What exercises should I focus on?\", \"Exercises like bicep curls, tricep dips, and push-ups can help tone the muscles in your arms. It's important to include a variety of exercises that target different muscle groups for balanced results.\"),\n",
    "                 (\"What's the best time of day to exercise?\", \"The best time to exercise depends on your personal preference and schedule. Some people prefer to exercise in the morning to jumpstart their day, while others find it more convenient to workout in the evening. The most important thing is to choose a time that works for you and stick to a consistent routine.\"),\n",
    "                 (\"I'm new to exercising. Where should I start?\", \"Starting with a mix of cardio and strength training exercises is a great way to build a solid foundation. Begin with low-intensity workouts and gradually increase the intensity and duration as you build strength and endurance. Don't forget to warm up before exercising and cool down afterward to prevent injury.\"),\n",
    "                 (\"How often should I exercise?\", \"The recommended amount of exercise for adults is at least 150 minutes of moderate-intensity aerobic activity or 75 minutes of vigorous-intensity aerobic activity per week, along with muscle-strengthening activities on two or more days per week. It's important to listen to your body and adjust your workout frequency based on your fitness level and goals.\"),\n",
    "                 (\"I have trouble staying hydrated during workouts. Any tips?\", \"It's important to drink plenty of water before, during, and after exercise to stay hydrated. Consider bringing a water bottle with you to sip on throughout your workout, and pay attention to signs of dehydration such as dry mouth, dizziness, and dark urine.\"),\n",
    "                 (\"I'm feeling sore after my workout. Is that normal?\", \"Feeling soreness, known as delayed onset muscle soreness (DOMS), after a workout is normal, especially if you've increased the intensity or duration of your exercise routine. It's a sign that your muscles are adapting to the workload. To alleviate soreness, try gentle stretching, foam rolling, or taking a warm bath.\"),\n",
    "                 (\"How can I prevent injury during exercise?\", \"To prevent injury, it's important to warm up before exercising, use proper form and technique, gradually increase the intensity and duration of your workouts, and listen to your body's signals. Incorporating rest days into your routine and cross-training with different types of exercises can also help prevent overuse injuries.\"),\n",
    "                 (\"I'm feeling stressed. Will exercise help?\", \"Exercise is a great way to reduce stress and improve mood. Physical activity releases endorphins, which are chemicals in the brain that act as natural painkillers and mood elevators. Try incorporating activities like walking, jogging, or yoga into your routine to help manage stress.\"),\n",
    "                 (\"I have trouble staying motivated to exercise regularly. Any tips?\", \"Setting specific, achievable goals, finding a workout buddy for accountability, and varying your routine with different types of exercises can help keep you motivated. Remember to focus on how exercise makes you feel, rather than just the end results.\"),\n",
    "                 (\"I'm not seeing the results I want from my workouts. What am I doing wrong?\", \"Several factors could be contributing to a lack of results, including not exercising with enough intensity or frequency, poor nutrition, inadequate recovery time, or unrealistic expectations. Consider evaluating your workout routine, nutrition habits, and lifestyle factors to identify areas for improvement.\"),\n",
    "                 (\"What should I eat before and after a workout?\", \"Before a workout, it's important to fuel your body with a combination of carbohydrates and protein for energy and muscle repair. Consider options like a banana with peanut butter, Greek yogurt with fruit, or a turkey sandwich on whole-grain bread. After a workout, aim to consume a balanced meal or snack containing protein and carbohydrates to replenish energy stores and support muscle recovery.\"),\n",
    "                 (\"I'm traveling and don't have access to a gym. What are some exercises I can do without equipment?\", \"Bodyweight exercises like push-ups, squats, lunges, and planks are great options for working out while traveling. You can also incorporate resistance bands or use household items like water bottles or backpacks as makeshift weights.\"),\n",
    "                 (\"I have a busy schedule and struggle to find time to exercise. Any tips for fitting in workouts?\", \"Finding small pockets of time throughout the day to squeeze in short bursts of exercise can be beneficial. Consider taking the stairs instead of the elevator, going for a brisk walk during your lunch break, or doing a quick bodyweight workout at home before or after work. Remember that every little bit of movement counts towards your overall fitness goals.\"),\n",
    "                 (\"I'm recovering from an injury. What exercises can I do to safely rebuild strength and mobility?\", \"During the recovery process, it's important to focus on gentle, low-impact exercises that don't exacerbate the injury. Depending on the type and severity of the injury, options may include swimming, stationary cycling, yoga, or physical therapy exercises prescribed by a healthcare professional.\"),\n",
    "                 (\"I'm interested in trying a new fitness class. Any recommendations?\", \"There are many different types of fitness classes to choose from, ranging from yoga and Pilates to dance-based workouts and high-intensity interval training (HIIT). Consider trying a few different classes to see what you enjoy and what fits best with your fitness goals and preferences.\"),\n",
    "                 (\"I'm feeling overwhelmed by all the conflicting information about exercise. How can I determine what's best for me?\", \"It's common to feel overwhelmed by the abundance of information available about exercise and fitness. Start by focusing on the basics: regular physical activity, a balanced diet, and listening to your body's signals. Experiment with different types of exercises and routines to see what works best for you, and don't hesitate to seek guidance from a qualified fitness professional if you need help.\"),\n",
    "                 (\"I'm interested in tracking my progress. What are some ways I can measure my fitness improvements?\", \"Tracking your progress can help you stay motivated and monitor your fitness goals. Consider keeping a workout journal to record your exercises, weights, and repetitions, taking regular measurements of your body composition, or using fitness apps and wearable devices to track metrics like steps taken, calories burned, and heart rate during workouts.\")]\n",
    "                 \n",
    "questions = [item[0] for item in data]\n",
    "answers = [item[1] for item in data]\n",
    "\n",
    "from transformers import BertTokenizer, BertForSequenceClassification\n",
    "import torch\n",
    "# Set the device\n",
    "device = torch.device(\"cuda\" if torch.cuda.is_available() else \"cpu\")\n",
    "\n",
    "# Load the BERT tokenizer\n",
    "tokenizer = BertTokenizer.from_pretrained('bert-base-cased')\n",
    "\n",
    "# Convert the data to input format for BERT\n",
    "question_input_ids = []\n",
    "question_attention_masks = []\n",
    "for i in range(len(questions)):\n",
    "    # Tokenize the question\n",
    "    question_tokens = tokenizer.tokenize(questions[i])\n",
    "    \n",
    "    max_length = 512\n",
    "    # Pad the input tokens\n",
    "    question_tokens = question_tokens + [tokenizer.pad_token] * (max_length - len(question_tokens))\n",
    "\n",
    "    # Create the input ids for the BERT model\n",
    "    question_input_ids.append(tokenizer.convert_tokens_to_ids(question_tokens))\n",
    "\n",
    "    # Create the attention masks for the input tokens\n",
    "    question_attention_masks.append([1 if token != tokenizer.pad_token else 0 for token in question_tokens])\n",
    "\n",
    "answer_input_ids = []\n",
    "answer_attention_masks = []\n",
    "for i in range(len(answers)):\n",
    "    # Tokenize the answer\n",
    "    answer_tokens = tokenizer.tokenize(answers[i])\n",
    "\n",
    "    # Pad the input tokens\n",
    "    answer_tokens = answer_tokens + [tokenizer.pad_token] * (max_length - len(answer_tokens))\n",
    "\n",
    "    # Create the input ids for the BERT model\n",
    "    answer_input_ids.append(tokenizer.convert_tokens_to_ids(answer_tokens))\n",
    "\n",
    "    # Create the attention masks for the input tokens\n",
    "    answer_attention_masks.append([1 if token != tokenizer.pad_token else 0 for token in answer_tokens])\n",
    "\n",
    "# Concatenate the question and answer input lists\n",
    "input_ids = question_input_ids + answer_input_ids\n",
    "attention_masks = question_attention_masks + answer_attention_masks\n",
    "\n",
    "# Convert the input ids and attention masks to tensors\n",
    "input_ids = torch.tensor(input_ids).to(device)\n",
    "attention_masks = torch.tensor(attention_masks).to(device)\n",
    "\n"
   ]
  },
  {
   "cell_type": "code",
   "execution_count": null,
   "id": "e30e86eb-b879-49e4-b3ee-597591013f81",
   "metadata": {},
   "outputs": [],
   "source": [
    "# Define the criterion\n",
    "criterion = torch. nn.CrossEntropyLoss()\n",
    "\n",
    "def calculate_accuracy(predictions, labels):\n",
    "    correct_predictions = 0\n",
    "    for i in range(len(predictions)):\n",
    "        if predictions[i] == labels[i]:\n",
    "            correct_predictions += 1\n",
    "    return correct_predictions / len(predictions)\n",
    "\n",
    "# Set the number of epochs\n",
    "num_epochs = 5\n",
    "\n",
    "# Set the labels for the data\n",
    "labels = [0 if i < len(questions) else 1 for i in range(len(questions) + len(answers))]\n",
    "labels = torch.tensor(labels).to(device)\n",
    "\n",
    "# Set the training loop\n",
    "for epoch in range(num_epochs):\n",
    "\n",
    "    # Set the training mode\n",
    "    model.train()\n",
    "\n",
    "    # Clear the gradients\n",
    "    model.zero_grad()\n",
    "\n",
    "    # Forward pass\n",
    "    output = model(input_ids, attention_mask=attention_masks)\n",
    "\n",
    "    # Calculate the loss\n",
    "    loss = criterion(output[0], labels)\n",
    "\n",
    "    # Backward pass\n",
    "    loss.backward()\n",
    "\n",
    "    # Update the parameters\n",
    "    optimizer.step()\n",
    "\n",
    "    # Print the loss and accuracy\n",
    "    print(\"Epoch {}/{} - Loss: {:.5f} - Accuracy: {:.5f}\".format(epoch + 1, num_epochs, loss.item(), calculate_accuracy(output[0].argmax(dim=1).cpu().numpy(), labels.cpu().numpy())))\n"
   ]
  },
  {
   "cell_type": "code",
   "execution_count": null,
   "id": "c2adf334-9702-4153-b692-417e9dc80b9e",
   "metadata": {},
   "outputs": [],
   "source": []
  }
 ],
 "metadata": {
  "kernelspec": {
   "display_name": "Python 3 (ipykernel)",
   "language": "python",
   "name": "python3"
  },
  "language_info": {
   "codemirror_mode": {
    "name": "ipython",
    "version": 3
   },
   "file_extension": ".py",
   "mimetype": "text/x-python",
   "name": "python",
   "nbconvert_exporter": "python",
   "pygments_lexer": "ipython3",
   "version": "3.9.13"
  }
 },
 "nbformat": 4,
 "nbformat_minor": 5
}
